{
 "cells": [
  {
   "cell_type": "code",
   "execution_count": 1,
   "metadata": {},
   "outputs": [
    {
     "name": "stderr",
     "output_type": "stream",
     "text": [
      "/home/tadenoud/.virtualenvs/ml/local/lib/python3.5/site-packages/h5py/__init__.py:36: FutureWarning: Conversion of the second argument of issubdtype from `float` to `np.floating` is deprecated. In future, it will be treated as `np.float64 == np.dtype(float).type`.\n",
      "  from ._conv import register_converters as _register_converters\n",
      "Using TensorFlow backend.\n"
     ]
    }
   ],
   "source": [
    "from keras.datasets import cifar100\n",
    "from keras.callbacks import EarlyStopping\n",
    "from UniversalStyleTransfer import UniversalStyleTransfer\n",
    "import numpy as np"
   ]
  },
  {
   "cell_type": "markdown",
   "metadata": {},
   "source": [
    "## Load the dataset"
   ]
  },
  {
   "cell_type": "code",
   "execution_count": 2,
   "metadata": {},
   "outputs": [
    {
     "name": "stdout",
     "output_type": "stream",
     "text": [
      "Found 100000 images belonging to 200 classes.\n",
      "Found 10000 images belonging to 1 classes.\n"
     ]
    }
   ],
   "source": [
    "epochs = 200\n",
    "batch_size = 100\n",
    "w, h, c = 64, 64, 3\n",
    "\n",
    "from keras.preprocessing.image import ImageDataGenerator\n",
    "\n",
    "train_datagen = ImageDataGenerator(\n",
    "        rescale=1./255,\n",
    "        horizontal_flip=True)\n",
    "\n",
    "train_generator = train_datagen.flow_from_directory(\n",
    "        '../datasets/tiny-imagenet-200/train',\n",
    "        target_size=(w, h),\n",
    "        batch_size=batch_size,\n",
    "        class_mode='input')\n",
    "\n",
    "test_datagen = ImageDataGenerator(\n",
    "        rescale=1./255)\n",
    "\n",
    "val_generator = test_datagen.flow_from_directory(\n",
    "        '../datasets/tiny-imagenet-200/val',\n",
    "        target_size=(w, h),\n",
    "        batch_size=batch_size,\n",
    "        class_mode='input')\n",
    "\n",
    "def gen(generator):\n",
    "    \"\"\"Yield the labels twice to allow multiple loss functions.\"\"\"\n",
    "    while True:\n",
    "        x, y = generator.next()\n",
    "        yield x, [y, y]\n",
    "        \n",
    "train_generator = gen(train_generator)\n",
    "val_generator = gen(val_generator)"
   ]
  },
  {
   "cell_type": "code",
   "execution_count": 5,
   "metadata": {},
   "outputs": [
    {
     "name": "stdout",
     "output_type": "stream",
     "text": [
      "Compiling autoencoder 1\n"
     ]
    }
   ],
   "source": [
    "model = UniversalStyleTransfer((w, h, c), lam=0.1)\n",
    "\n",
    "# TODO: Improve API so users don't need to manually specify loss functions\n",
    "model.compile(optimizer='adam', loss={\n",
    "    'reconstruction': model.reconstruction_loss,\n",
    "    'feature': model.feature_loss\n",
    "})"
   ]
  },
  {
   "cell_type": "code",
   "execution_count": null,
   "metadata": {},
   "outputs": [
    {
     "name": "stdout",
     "output_type": "stream",
     "text": [
      "Training autoencoder 1\n",
      "Epoch 1/200\n",
      "1563/1562 [==============================] - 137s 88ms/step - loss: 4348.5509 - reconstruction_loss: 1645.6882 - feature_loss: 2702.8626 - val_loss: 3860.9689 - val_reconstruction_loss: 1382.8622 - val_feature_loss: 2478.1067\n",
      "Epoch 2/200\n",
      "1563/1562 [==============================] - 136s 87ms/step - loss: 3842.7134 - reconstruction_loss: 1375.9073 - feature_loss: 2466.8062 - val_loss: 3859.9575 - val_reconstruction_loss: 1377.5677 - val_feature_loss: 2482.3898\n",
      "Epoch 3/200\n",
      "1563/1562 [==============================] - 137s 87ms/step - loss: 3835.6413 - reconstruction_loss: 1372.8548 - feature_loss: 2462.7865 - val_loss: 3845.0540 - val_reconstruction_loss: 1379.4727 - val_feature_loss: 2465.5812\n",
      "Epoch 4/200\n",
      "1563/1562 [==============================] - 110s 70ms/step - loss: 3826.5033 - reconstruction_loss: 1369.5260 - feature_loss: 2456.9773 - val_loss: 3852.4321 - val_reconstruction_loss: 1380.8588 - val_feature_loss: 2471.5733 - loss: 3829.3732 - reconstruction_los - ETA: 16s - loss: 3830.0539 - reco - ETA: 14s - loss: 38 - ETA: 12s - loss: 3828.5397 - reconstruction_loss: 13\n",
      "Epoch 5/200\n",
      "1563/1562 [==============================] - 111s 71ms/step - loss: 3832.3178 - reconstruction_loss: 1371.5907 - feature_loss: 2460.7271 - val_loss: 3840.7930 - val_reconstruction_loss: 1370.2139 - val_feature_loss: 2470.5791\n",
      "Epoch 6/200\n",
      "1563/1562 [==============================] - 110s 71ms/step - loss: 3826.9355 - reconstruction_loss: 1369.4280 - feature_loss: 2457.5075 - val_loss: 3852.2413 - val_reconstruction_loss: 1378.1757 - val_feature_loss: 2474.0656\n",
      "Epoch 7/200\n",
      "1563/1562 [==============================] - 111s 71ms/step - loss: 3828.6598 - reconstruction_loss: 1369.8990 - feature_loss: 2458.7608 - val_loss: 3832.5778 - val_reconstruction_loss: 1379.6251 - val_feature_loss: 2452.9527\n",
      "Epoch 8/200\n",
      "1563/1562 [==============================] - 111s 71ms/step - loss: 3827.9830 - reconstruction_loss: 1370.0876 - feature_loss: 2457.8954 - val_loss: 3851.0592 - val_reconstruction_loss: 1376.7599 - val_feature_loss: 2474.2993\n",
      "Epoch 9/200\n",
      "1563/1562 [==============================] - 113s 72ms/step - loss: 1563.1816 - reconstruction_loss: 561.6298 - feature_loss: 1001.5519 - val_loss: 40.9472 - val_reconstruction_loss: 19.3945 - val_feature_loss: 21.5527\n",
      "Epoch 10/200\n",
      "1563/1562 [==============================] - 114s 73ms/step - loss: 38.6987 - reconstruction_loss: 18.8452 - feature_loss: 19.8535 - val_loss: 36.5771 - val_reconstruction_loss: 18.1338 - val_feature_loss: 18.4433\n",
      "Epoch 11/200\n",
      "1563/1562 [==============================] - 118s 75ms/step - loss: 36.2667 - reconstruction_loss: 18.1171 - feature_loss: 18.1496 - val_loss: 35.4503 - val_reconstruction_loss: 17.8177 - val_feature_loss: 17.6326\n",
      "Epoch 12/200\n",
      "1563/1562 [==============================] - 129s 83ms/step - loss: 35.0576 - reconstruction_loss: 17.7365 - feature_loss: 17.3211 - val_loss: 34.6235 - val_reconstruction_loss: 17.5928 - val_feature_loss: 17.0307\n",
      "Epoch 13/200\n",
      "1563/1562 [==============================] - 119s 76ms/step - loss: 34.7185 - reconstruction_loss: 17.6616 - feature_loss: 17.0569 - val_loss: 33.9602 - val_reconstruction_loss: 17.3330 - val_feature_loss: 16.6272\n",
      "Epoch 14/200\n",
      "1563/1562 [==============================] - 118s 75ms/step - loss: 34.3488 - reconstruction_loss: 17.5398 - feature_loss: 16.8091 - val_loss: 33.9578 - val_reconstruction_loss: 17.3956 - val_feature_loss: 16.5623\n",
      "Epoch 15/200\n",
      "1563/1562 [==============================] - 119s 76ms/step - loss: 34.1218 - reconstruction_loss: 17.4438 - feature_loss: 16.6779 - val_loss: 33.5750 - val_reconstruction_loss: 17.2052 - val_feature_loss: 16.3698\n",
      "Epoch 16/200\n",
      "1563/1562 [==============================] - 118s 75ms/step - loss: 34.0593 - reconstruction_loss: 17.4597 - feature_loss: 16.5995 - val_loss: 33.6183 - val_reconstruction_loss: 17.2366 - val_feature_loss: 16.3818\n",
      "Epoch 17/200\n",
      "1563/1562 [==============================] - 118s 76ms/step - loss: 33.7992 - reconstruction_loss: 17.3380 - feature_loss: 16.4612 - val_loss: 33.4546 - val_reconstruction_loss: 17.1581 - val_feature_loss: 16.2966\n",
      "Epoch 18/200\n",
      "1563/1562 [==============================] - 118s 75ms/step - loss: 33.6414 - reconstruction_loss: 17.2819 - feature_loss: 16.3596 - val_loss: 33.3438 - val_reconstruction_loss: 17.1447 - val_feature_loss: 16.1991\n",
      "Epoch 19/200\n",
      "1563/1562 [==============================] - 125s 80ms/step - loss: 33.6282 - reconstruction_loss: 17.2832 - feature_loss: 16.3449 - val_loss: 33.2133 - val_reconstruction_loss: 17.0800 - val_feature_loss: 16.1333\n",
      "Epoch 20/200\n",
      " 214/1562 [===>..........................] - ETA: 1:46 - loss: 33.5082 - reconstruction_loss: 17.2122 - feature_loss: 16.2959"
     ]
    }
   ],
   "source": [
    "# TODO: Improve API so users don't need to pass two label datasets\n",
    "train = True\n",
    "\n",
    "if train:    \n",
    "    model.fit_generator(\n",
    "        train_generator,\n",
    "        epochs=epochs,\n",
    "        steps_per_epoch=100000 / batch_size,\n",
    "        callbacks=[\n",
    "            EarlyStopping(patience=3, min_delta=0.1)\n",
    "        ],\n",
    "        validation_data=val_generator,\n",
    "        validation_steps=10000 / batch_size,\n",
    "    )\n",
    "\n",
    "    model.save_weights(prefix=\"autoencoder\")"
   ]
  },
  {
   "cell_type": "code",
   "execution_count": null,
   "metadata": {},
   "outputs": [],
   "source": [
    "model.load_weights(prefix=\"../weights/autoencoder\")"
   ]
  },
  {
   "cell_type": "markdown",
   "metadata": {},
   "source": [
    "## Sanity check autoencoder training"
   ]
  },
  {
   "cell_type": "code",
   "execution_count": null,
   "metadata": {},
   "outputs": [],
   "source": [
    "from matplotlib import pyplot as plt\n",
    "%matplotlib inline\n",
    "\n",
    "# Sanity check autoencoder results\n",
    "img, _ = train_generator.next()\n",
    "img = img[0]\n",
    "plt.imshow(img)\n",
    "plt.show()\n",
    "\n",
    "for autoencoder in model._autoencoders:\n",
    "    pred = autoencoder.predict(np.expand_dims(img, axis=0))\n",
    "\n",
    "    plt.imshow(pred[0].squeeze())\n",
    "    plt.show()\n"
   ]
  },
  {
   "cell_type": "markdown",
   "metadata": {},
   "source": [
    "## Test style transfer"
   ]
  },
  {
   "cell_type": "code",
   "execution_count": null,
   "metadata": {
    "scrolled": false
   },
   "outputs": [],
   "source": [
    "img = x_train[0]\n",
    "style = x_train[5]\n",
    "\n",
    "plt.imshow(img)\n",
    "plt.show()\n",
    "plt.imshow(style)\n",
    "plt.show()\n",
    "\n",
    "# show result\n",
    "pred = model.stylize(img, style, 0.)\n",
    "plt.imshow(pred)\n",
    "plt.show()"
   ]
  },
  {
   "cell_type": "code",
   "execution_count": null,
   "metadata": {},
   "outputs": [],
   "source": []
  }
 ],
 "metadata": {
  "kernelspec": {
   "display_name": "Python 3",
   "language": "python",
   "name": "python3"
  },
  "language_info": {
   "codemirror_mode": {
    "name": "ipython",
    "version": 3
   },
   "file_extension": ".py",
   "mimetype": "text/x-python",
   "name": "python",
   "nbconvert_exporter": "python",
   "pygments_lexer": "ipython3",
   "version": "3.5.2"
  }
 },
 "nbformat": 4,
 "nbformat_minor": 1
}
